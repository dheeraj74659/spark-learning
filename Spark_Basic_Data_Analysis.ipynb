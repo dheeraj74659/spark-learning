{
  "nbformat": 4,
  "nbformat_minor": 0,
  "metadata": {
    "colab": {
      "provenance": [],
      "authorship_tag": "ABX9TyPLipmndb9bgSg19o8+M0hl"
    },
    "kernelspec": {
      "name": "python3",
      "display_name": "Python 3"
    },
    "language_info": {
      "name": "python"
    }
  },
  "cells": [
    {
      "cell_type": "code",
      "source": [
        "import pyspark\n",
        "from pyspark.sql import SparkSession\n",
        "\n",
        "spark = SparkSession.builder.appName(\"ColabSpark\").getOrCreate()\n",
        "print(\"✅ Spark Version:\", spark.version)"
      ],
      "metadata": {
        "colab": {
          "base_uri": "https://localhost:8080/"
        },
        "id": "lJvNUIxOsb0h",
        "outputId": "5f500e93-de0d-4f8a-f1fd-fbbb89d8ef7c"
      },
      "execution_count": 34,
      "outputs": [
        {
          "output_type": "stream",
          "name": "stdout",
          "text": [
            "✅ Spark Version: 3.5.1\n"
          ]
        }
      ]
    },
    {
      "cell_type": "code",
      "source": [
        "from pyspark.sql.types import StructType, StructField, StringType, IntegerType, DateType\n",
        "\n",
        "# creating the schema for the sales data\n",
        "sales_schema = StructType([\n",
        "    StructField(\"product_id\", IntegerType(), True),\n",
        "    StructField(\"customer_id\", StringType(), True),\n",
        "    StructField(\"order_date\", DateType(), True),\n",
        "    StructField(\"location\", StringType(), True),\n",
        "    StructField(\"source_order\", StringType(), True)\n",
        "])"
      ],
      "metadata": {
        "id": "4G2d3PolLzYQ"
      },
      "execution_count": 46,
      "outputs": []
    },
    {
      "cell_type": "code",
      "source": [
        "sales_df = spark.read.option(\"inferschema\", \"true\")\\\n",
        "                      .schema(sales_schema)\\\n",
        "                      .csv(\"./sales.csv.txt\")\n",
        "\n",
        "sales_df.show()\n"
      ],
      "metadata": {
        "colab": {
          "base_uri": "https://localhost:8080/"
        },
        "id": "VbF9cb6yfcr-",
        "outputId": "74a7d5ea-e55a-4e9d-9b9f-1cf3bddbdae8"
      },
      "execution_count": 47,
      "outputs": [
        {
          "output_type": "stream",
          "name": "stdout",
          "text": [
            "+----------+-----------+----------+--------+------------+\n",
            "|product_id|customer_id|order_date|location|source_order|\n",
            "+----------+-----------+----------+--------+------------+\n",
            "|         1|          A|2023-01-01|   India|      Swiggy|\n",
            "|         2|          A|2022-01-01|   India|      Swiggy|\n",
            "|         2|          A|2023-01-07|   India|      Swiggy|\n",
            "|         3|          A|2023-01-10|   India|  Restaurant|\n",
            "|         3|          A|2022-01-11|   India|      Swiggy|\n",
            "|         3|          A|2023-01-11|   India|  Restaurant|\n",
            "|         2|          B|2022-02-01|   India|      Swiggy|\n",
            "|         2|          B|2023-01-02|   India|      Swiggy|\n",
            "|         1|          B|2023-01-04|   India|  Restaurant|\n",
            "|         1|          B|2023-02-11|   India|      Swiggy|\n",
            "|         3|          B|2023-01-16|   India|      zomato|\n",
            "|         3|          B|2022-02-01|   India|      zomato|\n",
            "|         3|          C|2023-01-01|   India|      zomato|\n",
            "|         1|          C|2023-01-01|      UK|      Swiggy|\n",
            "|         6|          C|2022-01-07|      UK|      zomato|\n",
            "|         3|          D|2023-02-16|      UK|  Restaurant|\n",
            "|         5|          D|2022-02-01|      UK|      zomato|\n",
            "|         3|          E|2023-02-01|      UK|  Restaurant|\n",
            "|         4|          E|2023-02-01|      UK|      Swiggy|\n",
            "|         4|          E|2023-02-07|      UK|  Restaurant|\n",
            "+----------+-----------+----------+--------+------------+\n",
            "only showing top 20 rows\n",
            "\n"
          ]
        }
      ]
    },
    {
      "cell_type": "code",
      "source": [
        "from pyspark.sql.functions import year, month, quarter\n",
        "\n",
        "# Extracting year month and quater from order_date\n",
        "new_sales_df = sales_df.withColumn(\"order_year\", year(sales_df.order_date))\n",
        "new_sales_df = new_sales_df.withColumn(\"order_month\", month(sales_df.order_date))\n",
        "new_sales_df = new_sales_df.withColumn(\"order_quater\", quarter(sales_df.order_date))\n",
        "\n",
        "new_sales_df.show()"
      ],
      "metadata": {
        "colab": {
          "base_uri": "https://localhost:8080/"
        },
        "id": "IVT6EjMTf1BJ",
        "outputId": "d293155f-5241-45bb-e715-d6ff46a4eaf9"
      },
      "execution_count": 48,
      "outputs": [
        {
          "output_type": "stream",
          "name": "stdout",
          "text": [
            "+----------+-----------+----------+--------+------------+----------+-----------+------------+\n",
            "|product_id|customer_id|order_date|location|source_order|order_year|order_month|order_quater|\n",
            "+----------+-----------+----------+--------+------------+----------+-----------+------------+\n",
            "|         1|          A|2023-01-01|   India|      Swiggy|      2023|          1|           1|\n",
            "|         2|          A|2022-01-01|   India|      Swiggy|      2022|          1|           1|\n",
            "|         2|          A|2023-01-07|   India|      Swiggy|      2023|          1|           1|\n",
            "|         3|          A|2023-01-10|   India|  Restaurant|      2023|          1|           1|\n",
            "|         3|          A|2022-01-11|   India|      Swiggy|      2022|          1|           1|\n",
            "|         3|          A|2023-01-11|   India|  Restaurant|      2023|          1|           1|\n",
            "|         2|          B|2022-02-01|   India|      Swiggy|      2022|          2|           1|\n",
            "|         2|          B|2023-01-02|   India|      Swiggy|      2023|          1|           1|\n",
            "|         1|          B|2023-01-04|   India|  Restaurant|      2023|          1|           1|\n",
            "|         1|          B|2023-02-11|   India|      Swiggy|      2023|          2|           1|\n",
            "|         3|          B|2023-01-16|   India|      zomato|      2023|          1|           1|\n",
            "|         3|          B|2022-02-01|   India|      zomato|      2022|          2|           1|\n",
            "|         3|          C|2023-01-01|   India|      zomato|      2023|          1|           1|\n",
            "|         1|          C|2023-01-01|      UK|      Swiggy|      2023|          1|           1|\n",
            "|         6|          C|2022-01-07|      UK|      zomato|      2022|          1|           1|\n",
            "|         3|          D|2023-02-16|      UK|  Restaurant|      2023|          2|           1|\n",
            "|         5|          D|2022-02-01|      UK|      zomato|      2022|          2|           1|\n",
            "|         3|          E|2023-02-01|      UK|  Restaurant|      2023|          2|           1|\n",
            "|         4|          E|2023-02-01|      UK|      Swiggy|      2023|          2|           1|\n",
            "|         4|          E|2023-02-07|      UK|  Restaurant|      2023|          2|           1|\n",
            "+----------+-----------+----------+--------+------------+----------+-----------+------------+\n",
            "only showing top 20 rows\n",
            "\n"
          ]
        }
      ]
    },
    {
      "cell_type": "code",
      "source": [
        "# creating the menu data schema\n",
        "menu_schema = StructType([\n",
        "    StructField(\"product_id\", IntegerType(), True),\n",
        "    StructField(\"product_name\", StringType(), True),\n",
        "    StructField(\"price\", StringType(), True)\n",
        "])"
      ],
      "metadata": {
        "id": "DM6uNs2Ih5aA"
      },
      "execution_count": 49,
      "outputs": []
    },
    {
      "cell_type": "code",
      "source": [
        "menu_df = spark.read.schema(menu_schema).csv(\"./menu.csv.txt\")\n",
        "menu_df.show()"
      ],
      "metadata": {
        "colab": {
          "base_uri": "https://localhost:8080/"
        },
        "id": "wfiiEJ39hM27",
        "outputId": "9743eee1-b607-4f76-ebfa-c79d00ab1ef1"
      },
      "execution_count": 50,
      "outputs": [
        {
          "output_type": "stream",
          "name": "stdout",
          "text": [
            "+----------+------------+-----+\n",
            "|product_id|product_name|price|\n",
            "+----------+------------+-----+\n",
            "|         1|       PIZZA|  100|\n",
            "|         2|     Chowmin|  150|\n",
            "|         3|    sandwich|  120|\n",
            "|         4|        Dosa|  110|\n",
            "|         5|     Biryani|   80|\n",
            "|         6|       Pasta|  180|\n",
            "+----------+------------+-----+\n",
            "\n"
          ]
        }
      ]
    },
    {
      "cell_type": "code",
      "source": [
        "joined_table = new_sales_df.join(menu_df,\n",
        "                                 \"product_id\",\n",
        "                                 \"inner\")\n",
        "joined_table.show()"
      ],
      "metadata": {
        "colab": {
          "base_uri": "https://localhost:8080/"
        },
        "id": "Y5uReNMUhmtz",
        "outputId": "6e81fae6-d58c-4c84-ece4-99830616f0d5"
      },
      "execution_count": 51,
      "outputs": [
        {
          "output_type": "stream",
          "name": "stdout",
          "text": [
            "+----------+-----------+----------+--------+------------+----------+-----------+------------+------------+-----+\n",
            "|product_id|customer_id|order_date|location|source_order|order_year|order_month|order_quater|product_name|price|\n",
            "+----------+-----------+----------+--------+------------+----------+-----------+------------+------------+-----+\n",
            "|         1|          A|2023-01-01|   India|      Swiggy|      2023|          1|           1|       PIZZA|  100|\n",
            "|         2|          A|2022-01-01|   India|      Swiggy|      2022|          1|           1|     Chowmin|  150|\n",
            "|         2|          A|2023-01-07|   India|      Swiggy|      2023|          1|           1|     Chowmin|  150|\n",
            "|         3|          A|2023-01-10|   India|  Restaurant|      2023|          1|           1|    sandwich|  120|\n",
            "|         3|          A|2022-01-11|   India|      Swiggy|      2022|          1|           1|    sandwich|  120|\n",
            "|         3|          A|2023-01-11|   India|  Restaurant|      2023|          1|           1|    sandwich|  120|\n",
            "|         2|          B|2022-02-01|   India|      Swiggy|      2022|          2|           1|     Chowmin|  150|\n",
            "|         2|          B|2023-01-02|   India|      Swiggy|      2023|          1|           1|     Chowmin|  150|\n",
            "|         1|          B|2023-01-04|   India|  Restaurant|      2023|          1|           1|       PIZZA|  100|\n",
            "|         1|          B|2023-02-11|   India|      Swiggy|      2023|          2|           1|       PIZZA|  100|\n",
            "|         3|          B|2023-01-16|   India|      zomato|      2023|          1|           1|    sandwich|  120|\n",
            "|         3|          B|2022-02-01|   India|      zomato|      2022|          2|           1|    sandwich|  120|\n",
            "|         3|          C|2023-01-01|   India|      zomato|      2023|          1|           1|    sandwich|  120|\n",
            "|         1|          C|2023-01-01|      UK|      Swiggy|      2023|          1|           1|       PIZZA|  100|\n",
            "|         6|          C|2022-01-07|      UK|      zomato|      2022|          1|           1|       Pasta|  180|\n",
            "|         3|          D|2023-02-16|      UK|  Restaurant|      2023|          2|           1|    sandwich|  120|\n",
            "|         5|          D|2022-02-01|      UK|      zomato|      2022|          2|           1|     Biryani|   80|\n",
            "|         3|          E|2023-02-01|      UK|  Restaurant|      2023|          2|           1|    sandwich|  120|\n",
            "|         4|          E|2023-02-01|      UK|      Swiggy|      2023|          2|           1|        Dosa|  110|\n",
            "|         4|          E|2023-02-07|      UK|  Restaurant|      2023|          2|           1|        Dosa|  110|\n",
            "+----------+-----------+----------+--------+------------+----------+-----------+------------+------------+-----+\n",
            "only showing top 20 rows\n",
            "\n"
          ]
        }
      ]
    },
    {
      "cell_type": "code",
      "source": [
        "# total sales by customer\n",
        "from pyspark.sql.functions import sum\n",
        "\n",
        "joined_table.groupBy(\"customer_id\").agg(sum(\"price\").alias(\"total spent\")).orderBy(\"customer_id\").show()"
      ],
      "metadata": {
        "colab": {
          "base_uri": "https://localhost:8080/"
        },
        "id": "PfYjyccyi6Qv",
        "outputId": "c7e99d07-8caa-4236-fc47-0bee9f1fb84d"
      },
      "execution_count": 52,
      "outputs": [
        {
          "output_type": "stream",
          "name": "stdout",
          "text": [
            "+-----------+-----------+\n",
            "|customer_id|total spent|\n",
            "+-----------+-----------+\n",
            "|          A|     4260.0|\n",
            "|          B|     4440.0|\n",
            "|          C|     2400.0|\n",
            "|          D|     1200.0|\n",
            "|          E|     2040.0|\n",
            "+-----------+-----------+\n",
            "\n"
          ]
        }
      ]
    },
    {
      "cell_type": "code",
      "source": [
        "# total product revenue\n",
        "joined_table.groupBy(\"product_name\").agg(sum(\"price\").alias(\"total sales\")).orderBy(\"product_name\").show()"
      ],
      "metadata": {
        "colab": {
          "base_uri": "https://localhost:8080/"
        },
        "id": "mbeRIrSjlAVF",
        "outputId": "b4037101-af67-403f-f9ae-c756fec12c1a"
      },
      "execution_count": 53,
      "outputs": [
        {
          "output_type": "stream",
          "name": "stdout",
          "text": [
            "+------------+-----------+\n",
            "|product_name|total sales|\n",
            "+------------+-----------+\n",
            "|     Biryani|      480.0|\n",
            "|     Chowmin|     3600.0|\n",
            "|        Dosa|     1320.0|\n",
            "|       PIZZA|     2100.0|\n",
            "|       Pasta|     1080.0|\n",
            "|    sandwich|     5760.0|\n",
            "+------------+-----------+\n",
            "\n"
          ]
        }
      ]
    },
    {
      "cell_type": "code",
      "source": [
        "# Total sales per month\n",
        "joined_table.groupBy(\"order_month\").agg({\"price\":\"sum\"}).orderBy(\"order_month\").show()"
      ],
      "metadata": {
        "colab": {
          "base_uri": "https://localhost:8080/"
        },
        "id": "LpcCzYdplgk7",
        "outputId": "c2be469b-5e89-49a2-a713-27ef81512e57"
      },
      "execution_count": 26,
      "outputs": [
        {
          "output_type": "stream",
          "name": "stdout",
          "text": [
            "+-----------+----------+\n",
            "|order_month|sum(price)|\n",
            "+-----------+----------+\n",
            "|          1|    2960.0|\n",
            "|          2|    2730.0|\n",
            "|          3|     910.0|\n",
            "|          5|    2960.0|\n",
            "|          6|    2960.0|\n",
            "|          7|     910.0|\n",
            "|         11|     910.0|\n",
            "+-----------+----------+\n",
            "\n"
          ]
        }
      ]
    },
    {
      "cell_type": "code",
      "source": [
        "# Yearly Sales\n",
        "joined_table.groupBy(\"order_year\").agg({\"price\":\"sum\"}).orderBy(\"order_year\").show()"
      ],
      "metadata": {
        "colab": {
          "base_uri": "https://localhost:8080/"
        },
        "id": "EzjJr9X0luS6",
        "outputId": "23899463-9a94-4833-e419-3712a4ae94d2"
      },
      "execution_count": 28,
      "outputs": [
        {
          "output_type": "stream",
          "name": "stdout",
          "text": [
            "+----------+----------+\n",
            "|order_year|sum(price)|\n",
            "+----------+----------+\n",
            "|      2022|    4350.0|\n",
            "|      2023|    9990.0|\n",
            "+----------+----------+\n",
            "\n"
          ]
        }
      ]
    },
    {
      "cell_type": "code",
      "source": [
        "from pyspark.sql.functions import count\n",
        "\n",
        "# Count of product sales\n",
        "joined_table.groupBy(\"product_id\", \"product_name\")\\\n",
        "            .agg(count(\"product_id\")\\\n",
        "            .alias(\"product_count\"))\\\n",
        "            .orderBy(\"product_count\", ascending=0)\\\n",
        "            .drop(\"product_id\")\\\n",
        "            .limit(5)\\\n",
        "            .show()"
      ],
      "metadata": {
        "colab": {
          "base_uri": "https://localhost:8080/"
        },
        "id": "0AH4aFlDmAf4",
        "outputId": "692257f0-876e-41bc-93e5-5f33fb27d5bc"
      },
      "execution_count": 32,
      "outputs": [
        {
          "output_type": "stream",
          "name": "stdout",
          "text": [
            "+------------+-------------+\n",
            "|product_name|product_count|\n",
            "+------------+-------------+\n",
            "|    sandwich|           48|\n",
            "|     Chowmin|           24|\n",
            "|       PIZZA|           21|\n",
            "|        Dosa|           12|\n",
            "|     Biryani|            6|\n",
            "+------------+-------------+\n",
            "\n"
          ]
        }
      ]
    },
    {
      "cell_type": "code",
      "source": [
        "# showing the number of different dates a customer orders at the resturant\n",
        "from pyspark.sql.functions import countDistinct\n",
        "df = sales_df.filter(sales_df.source_order == 'Restaurant')\\\n",
        "                              .groupBy(\"customer_id\")\\\n",
        "                              .agg(countDistinct('order_date'))\\\n",
        "                              .show()"
      ],
      "metadata": {
        "colab": {
          "base_uri": "https://localhost:8080/"
        },
        "id": "06rbbS18nF_x",
        "outputId": "b9647d1b-05e7-4723-ab99-f4b7bb7aed9d"
      },
      "execution_count": 42,
      "outputs": [
        {
          "output_type": "stream",
          "name": "stdout",
          "text": [
            "+-----------+--------------------------+\n",
            "|customer_id|count(DISTINCT order_date)|\n",
            "+-----------+--------------------------+\n",
            "|          E|                         5|\n",
            "|          B|                         6|\n",
            "|          D|                         1|\n",
            "|          C|                         3|\n",
            "|          A|                         6|\n",
            "+-----------+--------------------------+\n",
            "\n"
          ]
        }
      ]
    },
    {
      "cell_type": "code",
      "source": [],
      "metadata": {
        "id": "7wrnMVa30TRx"
      },
      "execution_count": null,
      "outputs": []
    }
  ]
}