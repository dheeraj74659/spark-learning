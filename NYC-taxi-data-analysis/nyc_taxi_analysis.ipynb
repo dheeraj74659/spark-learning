{
  "nbformat": 4,
  "nbformat_minor": 0,
  "metadata": {
    "colab": {
      "provenance": [],
      "authorship_tag": "ABX9TyNcEcATKWwxmNCbtY65QhRJ"
    },
    "kernelspec": {
      "name": "python3",
      "display_name": "Python 3"
    },
    "language_info": {
      "name": "python"
    }
  },
  "cells": [
    {
      "cell_type": "markdown",
      "source": [
        "# Analyze NYC Taxi Data to Improve Transportation Policy\n",
        "🎯 Goal: Help city planners understand how trip distances, durations, and demand vary across time and location to improve infrastructure or pricing policy."
      ],
      "metadata": {
        "id": "P6RkkZkkmazX"
      }
    },
    {
      "cell_type": "markdown",
      "source": [
        "### 📦 Dataset: NYC Yellow Taxi Trips\n",
        "\n",
        "Link: https://www.nyc.gov/site/tlc/about/tlc-trip-record-data.page\n",
        "\n",
        "Format: Parquet\n",
        "\n",
        "Also download the Zone Lookup Table to map *locations*"
      ],
      "metadata": {
        "id": "McNVEj2GmlbS"
      }
    },
    {
      "cell_type": "code",
      "execution_count": 2,
      "metadata": {
        "colab": {
          "base_uri": "https://localhost:8080/"
        },
        "id": "8Dk2b0MVBvZn",
        "outputId": "3b44a82c-6259-46da-8602-a681a2e369c2"
      },
      "outputs": [
        {
          "output_type": "stream",
          "name": "stdout",
          "text": [
            "  % Total    % Received % Xferd  Average Speed   Time    Time     Time  Current\n",
            "                                 Dload  Upload   Total   Spent    Left  Speed\n",
            "100 59.4M  100 59.4M    0     0   117M      0 --:--:-- --:--:-- --:--:--  117M\n"
          ]
        }
      ],
      "source": [
        "!curl https://d37ci6vzurychx.cloudfront.net/trip-data/yellow_tripdata_2025-08.parquet --output ./yellow_tripdata_2025-08.parquet"
      ]
    },
    {
      "cell_type": "code",
      "source": [
        "!curl https://d37ci6vzurychx.cloudfront.net/misc/taxi+_zone_lookup.csv --output ./taxi_zone_lookup.csv"
      ],
      "metadata": {
        "colab": {
          "base_uri": "https://localhost:8080/"
        },
        "id": "53_5VzYYCuhQ",
        "outputId": "6e9c8815-a8c5-4226-d99a-7f160c468a83"
      },
      "execution_count": 3,
      "outputs": [
        {
          "output_type": "stream",
          "name": "stdout",
          "text": [
            "  % Total    % Received % Xferd  Average Speed   Time    Time     Time  Current\n",
            "                                 Dload  Upload   Total   Spent    Left  Speed\n",
            "\r  0     0    0     0    0     0      0      0 --:--:-- --:--:-- --:--:--     0\r100 12331  100 12331    0     0   116k      0 --:--:-- --:--:-- --:--:--  116k\n"
          ]
        }
      ]
    },
    {
      "cell_type": "markdown",
      "source": [
        "### STEP 1: Load Taxi Data and Zone Info"
      ],
      "metadata": {
        "id": "yWgFGD3am-E4"
      }
    },
    {
      "cell_type": "code",
      "source": [
        "from pyspark.sql import SparkSession\n",
        "\n",
        "spark = SparkSession.builder.appName(\"NYCTaxiAnalysis\").getOrCreate()\n",
        "\n",
        "# Load the data\n",
        "trips = spark.read.parquet(\"./yellow_tripdata_2025-08.parquet\")\n",
        "\n",
        "# Load Lookup table\n",
        "zones = spark.read.csv(\"./taxi_zone_lookup.csv\", header=True, inferSchema=True)"
      ],
      "metadata": {
        "id": "nH9dekG4CLlq"
      },
      "execution_count": 4,
      "outputs": []
    },
    {
      "cell_type": "markdown",
      "source": [
        "### STEP 2: Clean and Prepare the Data"
      ],
      "metadata": {
        "id": "jQU3Ati8nTg-"
      }
    },
    {
      "cell_type": "code",
      "source": [
        "from pyspark.sql.functions import col, unix_timestamp\n",
        "\n",
        "# Remove invalid records\n",
        "trips_clean = trips.filter(\n",
        "    (col('passenger_count') > 0) &\n",
        "    (col('trip_distance') > 0) &\n",
        "    (col('tpep_dropoff_datetime') > col('tpep_pickup_datetime'))\n",
        ")\n",
        "\n",
        "# Calculate the trip duration in minutes\n",
        "trips_clean = trips_clean.withColumn(\n",
        "    \"trip_duration_min\",\n",
        "    (unix_timestamp(\"tpep_dropoff_datetime\") - unix_timestamp(\"tpep_pickup_datetime\")) / 60\n",
        ")"
      ],
      "metadata": {
        "id": "Jfntcn79DJ1c"
      },
      "execution_count": null,
      "outputs": []
    },
    {
      "cell_type": "markdown",
      "source": [
        "### STEP 3: Join with Zone Data (to get readable zone names)"
      ],
      "metadata": {
        "id": "jbsJ9ed_nfyo"
      }
    },
    {
      "cell_type": "code",
      "source": [
        "# Rename for clarity\n",
        "zones = zones.withColumnRenamed(\"LocationID\", \"PULocationID\").withColumnRenamed(\"Zone\", \"PU_Zone\")\n",
        "\n",
        "# Join to get pickup zone names\n",
        "trips_with_zones = trips_clean.join(zones, on=\"PULocationID\", how='left')"
      ],
      "metadata": {
        "id": "mJOrZ-l8ni-y"
      },
      "execution_count": null,
      "outputs": []
    },
    {
      "cell_type": "markdown",
      "source": [
        "### Core Analysis"
      ],
      "metadata": {
        "id": "WBZ7pztFnhMH"
      }
    },
    {
      "cell_type": "code",
      "source": [
        "# Top 10 Pickup Zones by Trip Count\n",
        "trips_with_zones.groupBy(\"PU_Zone\")\\\n",
        "  .count()\\\n",
        "  .orderBy(\"count\", ascending=False)\\\n",
        "  .show(10)"
      ],
      "metadata": {
        "colab": {
          "base_uri": "https://localhost:8080/"
        },
        "id": "k0gXRTJCE9tm",
        "outputId": "6e89a6cd-c809-41b3-9fbe-23b8b44b384a"
      },
      "execution_count": null,
      "outputs": [
        {
          "output_type": "stream",
          "name": "stdout",
          "text": [
            "+--------------------+------+\n",
            "|             PU_Zone| count|\n",
            "+--------------------+------+\n",
            "|         JFK Airport|183342|\n",
            "|      Midtown Center|123687|\n",
            "|Upper East Side S...|111222|\n",
            "|Penn Station/Madi...|106469|\n",
            "|   LaGuardia Airport| 97109|\n",
            "|        Midtown East| 94813|\n",
            "|Times Sq/Theatre ...| 89936|\n",
            "|Upper East Side N...| 85777|\n",
            "|         Murray Hill| 79674|\n",
            "|       Midtown North| 71146|\n",
            "+--------------------+------+\n",
            "only showing top 10 rows\n",
            "\n"
          ]
        }
      ]
    },
    {
      "cell_type": "code",
      "source": [
        "from pyspark.sql.functions import hour\n",
        "\n",
        "trips_with_hours = trips_with_zones.withColumn(\"pickup_hour\", hour(\"tpep_pickup_datetime\"))\n",
        "\n",
        "# Avg Trip Duration by Hour of Day\n",
        "trips_with_hours.groupBy(\"pickup_hour\")\\\n",
        "  .avg(\"trip_duration_min\")\\\n",
        "  .orderBy('pickup_hour')\\\n",
        "  .show()"
      ],
      "metadata": {
        "colab": {
          "base_uri": "https://localhost:8080/"
        },
        "id": "2OFhBw3lFPpP",
        "outputId": "f58fd023-c768-4901-de73-3b13f92f1558"
      },
      "execution_count": null,
      "outputs": [
        {
          "output_type": "stream",
          "name": "stdout",
          "text": [
            "+-----------+----------------------+\n",
            "|pickup_hour|avg(trip_duration_min)|\n",
            "+-----------+----------------------+\n",
            "|          0|    15.200350119364197|\n",
            "|          1|    13.972758818285994|\n",
            "|          2|    12.714887250363725|\n",
            "|          3|    13.009176058874996|\n",
            "|          4|     15.63602369255961|\n",
            "|          5|     18.89007348400631|\n",
            "|          6|    17.573079565951776|\n",
            "|          7|    17.254840255331587|\n",
            "|          8|     16.54589741268411|\n",
            "|          9|     16.88826175396414|\n",
            "|         10|      17.2379948556447|\n",
            "|         11|    17.800190142042112|\n",
            "|         12|    18.373015284029513|\n",
            "|         13|    18.489530655981863|\n",
            "|         14|    19.889117733881196|\n",
            "|         15|    19.860048822492594|\n",
            "|         16|    19.924008877162485|\n",
            "|         17|    18.844386985384023|\n",
            "|         18|     16.86838233447732|\n",
            "|         19|     16.01068547549598|\n",
            "+-----------+----------------------+\n",
            "only showing top 20 rows\n",
            "\n"
          ]
        }
      ]
    },
    {
      "cell_type": "code",
      "source": [
        "# Short Distance, Long Duration Trips\n",
        "trips_with_zones.filter(\n",
        "  (col(\"trip_distance\") < 2) & (col(\"trip_duration_min\") > 20))\\\n",
        "  .select(\"PU_Zone\", \"trip_distance\", \"trip_duration_min\")\\\n",
        "  .orderBy(\"trip_duration_min\", ascending=False)\\\n",
        "  .show(10)"
      ],
      "metadata": {
        "colab": {
          "base_uri": "https://localhost:8080/",
          "height": 216
        },
        "id": "AW02hFa-GNm-",
        "outputId": "e61c595a-e68f-492e-e4d6-664c174975a3",
        "collapsed": true
      },
      "execution_count": 5,
      "outputs": [
        {
          "output_type": "error",
          "ename": "NameError",
          "evalue": "name 'trips_with_zones' is not defined",
          "traceback": [
            "\u001b[0;31m---------------------------------------------------------------------------\u001b[0m",
            "\u001b[0;31mNameError\u001b[0m                                 Traceback (most recent call last)",
            "\u001b[0;32m/tmp/ipython-input-1456206057.py\u001b[0m in \u001b[0;36m<cell line: 0>\u001b[0;34m()\u001b[0m\n\u001b[1;32m      1\u001b[0m \u001b[0;31m# Short Distance, Long Duration Trips\u001b[0m\u001b[0;34m\u001b[0m\u001b[0;34m\u001b[0m\u001b[0m\n\u001b[0;32m----> 2\u001b[0;31m trips_with_zones.filter(\n\u001b[0m\u001b[1;32m      3\u001b[0m   (col(\"trip_distance\") < 2) & (col(\"trip_duration_min\") > 20))\\\n\u001b[1;32m      4\u001b[0m   \u001b[0;34m.\u001b[0m\u001b[0mselect\u001b[0m\u001b[0;34m(\u001b[0m\u001b[0;34m\"PU_Zone\"\u001b[0m\u001b[0;34m,\u001b[0m \u001b[0;34m\"trip_distance\"\u001b[0m\u001b[0;34m,\u001b[0m \u001b[0;34m\"trip_duration_min\"\u001b[0m\u001b[0;34m)\u001b[0m\u001b[0;31m\\\u001b[0m\u001b[0;34m\u001b[0m\u001b[0;34m\u001b[0m\u001b[0m\n\u001b[1;32m      5\u001b[0m   \u001b[0;34m.\u001b[0m\u001b[0morderBy\u001b[0m\u001b[0;34m(\u001b[0m\u001b[0;34m\"trip_duration_min\"\u001b[0m\u001b[0;34m,\u001b[0m \u001b[0mascending\u001b[0m\u001b[0;34m=\u001b[0m\u001b[0;32mFalse\u001b[0m\u001b[0;34m)\u001b[0m\u001b[0;31m\\\u001b[0m\u001b[0;34m\u001b[0m\u001b[0;34m\u001b[0m\u001b[0m\n",
            "\u001b[0;31mNameError\u001b[0m: name 'trips_with_zones' is not defined"
          ]
        }
      ]
    },
    {
      "cell_type": "markdown",
      "source": [
        "These could be traffic-congested areas — worth investigating for infrastructure or traffic light optimization."
      ],
      "metadata": {
        "id": "sx4TRIj3oINl"
      }
    },
    {
      "cell_type": "code",
      "source": [
        "trips_with_zones.write.parquet(\"cleaned_nyc_taxi.parquet\")\n",
        "\n",
        "#save analysis summary\n",
        "top_zones = trips_with_zones.groupBy(\"PU_Zone\")\\\n",
        "  .count()\\\n",
        "  .orderBy(\"count\", ascending=False)"
      ],
      "metadata": {
        "id": "jvZM_rjJHV9a"
      },
      "execution_count": null,
      "outputs": []
    },
    {
      "cell_type": "code",
      "source": [
        "top_zones.write.csv(\"top_pickup_zones.csv\", header=True)"
      ],
      "metadata": {
        "id": "yaUoganuHvi9"
      },
      "execution_count": null,
      "outputs": []
    },
    {
      "cell_type": "markdown",
      "source": [],
      "metadata": {
        "id": "jDGLClMXCcz7"
      }
    }
  ]
}